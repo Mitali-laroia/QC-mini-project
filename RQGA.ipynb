{
  "nbformat": 4,
  "nbformat_minor": 0,
  "metadata": {
    "colab": {
      "provenance": [],
      "authorship_tag": "ABX9TyNCHYyIfU1g9XHbrHinblxo",
      "include_colab_link": true
    },
    "kernelspec": {
      "name": "python3",
      "display_name": "Python 3"
    },
    "language_info": {
      "name": "python"
    }
  },
  "cells": [
    {
      "cell_type": "markdown",
      "metadata": {
        "id": "view-in-github",
        "colab_type": "text"
      },
      "source": [
        "<a href=\"https://colab.research.google.com/github/Mitali-laroia/QC-mini-project/blob/main/RQGA.ipynb\" target=\"_parent\"><img src=\"https://colab.research.google.com/assets/colab-badge.svg\" alt=\"Open In Colab\"/></a>"
      ]
    },
    {
      "cell_type": "code",
      "execution_count": 1,
      "metadata": {
        "id": "EeaGzcGFjkjF"
      },
      "outputs": [],
      "source": [
        "import math\n",
        "import numpy as np"
      ]
    },
    {
      "cell_type": "code",
      "source": [
        "#########################################################\n",
        "# VARIABLES ALGORITHM AND PARAMETERS                    #\n",
        "#########################################################\n",
        "n=4;\n",
        "fitness = np.empty([2**n])\n",
        "cutoff=99;\n"
      ],
      "metadata": {
        "id": "GI11vQKpjsvf"
      },
      "execution_count": 2,
      "outputs": []
    },
    {
      "cell_type": "code",
      "source": [
        "#########################################################\n",
        "# CONVERTS A NON-SUPERPOSED BINARY STATE TO             #\n",
        "# |psi> REGISTER IN SUPERPOSITION                       #  \n",
        "#########################################################\n",
        "def bin2dec(string_num):\n",
        "    return str(int(string_num, 2))\n",
        "\n",
        "def dec2vec(dec,n):\n",
        "    vec=np.zeros((2**n,1))\n",
        "    vec[int(dec),0]=1;\n",
        "    return vec\n",
        "    \n",
        "def psi(string_num):\n",
        "    dec=bin2dec(string_num)\n",
        "    return dec2vec(dec,len(string_num))"
      ],
      "metadata": {
        "id": "npTSaQqejviT"
      },
      "execution_count": 15,
      "outputs": []
    },
    {
      "cell_type": "code",
      "source": [
        "#########################################################\n",
        "# CREATES AN N-BIT HADAMARD MATRIX                      #\n",
        "#########################################################\n",
        "def hadamard(n):\n",
        "    r2=math.sqrt(2.0)\n",
        "    H1=np.array([[1/r2,1/r2],[1/r2,-1/r2]])\n",
        "    if n==1:\n",
        "        H=H1\n",
        "    else:\n",
        "        H=1;\n",
        "        i=1;\n",
        "        for i in range(1,n+1):\n",
        "            H=np.kron(H,H1)\n",
        "    return H"
      ],
      "metadata": {
        "id": "0qwUGzFajyjF"
      },
      "execution_count": 4,
      "outputs": []
    },
    {
      "cell_type": "code",
      "source": [
        "#########################################################\n",
        "# FITNESS QUANTUM GATE                                  #\n",
        "#########################################################  \n",
        "def bin(i):\n",
        "    if i == 0:\n",
        "        return \"0\"\n",
        "    s = ''\n",
        "    while i:\n",
        "        if i & 1 == 1:\n",
        "            s = \"1\" + s\n",
        "        else:\n",
        "            s = \"0\" + s\n",
        "        i >>= 1\n",
        "    return s\n"
      ],
      "metadata": {
        "id": "QEGmWepjj15k"
      },
      "execution_count": 7,
      "outputs": []
    },
    {
      "cell_type": "code",
      "source": [
        "def Fitness_evaluation():\n",
        "    for i in range(0,2**n):\n",
        "        fitness[i]=0\n",
        "        \n",
        " #########################################################\n",
        " # Define your problem in this section. For instance:    #\n",
        " #                                                       #\n",
        " # Let f(x)=abs(x-5/2+sin(x)) be a function that takes   #          \n",
        " # values in the range 0<=x<=15. Within this range f(x)  #\n",
        " # has a maximum value at x=11 (binary is equal to 1011) #                   \n",
        " #########################################################\n",
        "    for i in range(0,16):\n",
        "        x=int(bin(i),2)\n",
        "        # replaces the value of x in the function f(x)\n",
        "        y=np.fabs((x-5)/(2+np.sin(x)))\n",
        "        # the fitness value is calculated below:\n",
        "        # (Note that in this example is multiplied\n",
        "        # by a scale value, e.g. 100)\n",
        "        fitness[i]=y*100\n",
        "\n",
        " #########################################################\n",
        "    # Best chromosome selection\n",
        "    the_best_chrom=0;\n",
        "    fitness_max=fitness[1];\n",
        "    for i in range(0,16):\n",
        "        if fitness[i]>=fitness_max:\n",
        "            fitness_max=fitness[i]\n",
        "            the_best_chrom=i\n",
        "        cutoff=the_best_chrom\n",
        "    return cutoff"
      ],
      "metadata": {
        "id": "6VVdHRvJj7ks"
      },
      "execution_count": 8,
      "outputs": []
    },
    {
      "cell_type": "code",
      "source": [
        "#########################################################\n",
        "# ORACLE:UNITARY F-CONDITIONAL INVERTER FOR N BITS INPUT#\n",
        "#########################################################  \n",
        "def U_Oracle(n):\n",
        "    zero_mat=np.zeros((2**n,2**n))\n",
        "    i=0;\n",
        "    for i in range(0,2**n):\n",
        "    ###########################\n",
        "    # Define here your oracle #\n",
        "    ###########################\n",
        "        if i==Fitness_evaluation():\n",
        "            O=1\n",
        "        else:\n",
        "            O=0\n",
        "    # Inverter\n",
        "        zero_mat[i,i]=(-1)**O\n",
        "    return zero_mat"
      ],
      "metadata": {
        "id": "w2QpPyD3kGoy"
      },
      "execution_count": 9,
      "outputs": []
    },
    {
      "cell_type": "code",
      "source": [
        "#########################################################\n",
        "# GROVER'S DIFFUSION OPERATOR                           #\n",
        "#########################################################\n",
        "# Inversion about average\n",
        "def ia(n):\n",
        "    ia_mat=2*np.ones(2**n)/(2**n)\n",
        "    ia_mat=ia_mat-np.identity(2**n)\n",
        "    return "
      ],
      "metadata": {
        "id": "JjvznyqzkJll"
      },
      "execution_count": 10,
      "outputs": []
    },
    {
      "cell_type": "code",
      "source": [
        "#########################################################\n",
        "# GROVER'S MAXIMUM ITERATIONS                           #\n",
        "#########################################################\n",
        "def maxiter(n):\n",
        "    max_iter=(np.pi/4)*math.sqrt(2**n)\n",
        "    return max_iter\n"
      ],
      "metadata": {
        "id": "gp42hzrnkMSi"
      },
      "execution_count": 11,
      "outputs": []
    },
    {
      "cell_type": "code",
      "source": [
        "#########################################################\n",
        "# REDUCED QUANTUM GENETIC ALGORITHM                     #\n",
        "#########################################################\n",
        "def RQGA(n, string_num):\n",
        "    psi_=psi(string_num)\n",
        "    H=hadamard(n)\n",
        "    psi_=np.dot(H,psi_)\n",
        "    print(psi_)\n",
        "    print()\n",
        "    iter=np.trunc(maxiter(n))\n",
        "    iter=int(round(iter))\n",
        "    for i in range (1,iter):\n",
        "        U_O=U_Oracle(n)\n",
        "        print(U_O)\n",
        "        print()\n",
        "        psi_=np.dot(U_O,psi_)\n",
        "        print(psi_)\n",
        "        print()\n",
        "        D=ia(n)\n",
        "        psi_=np.dot(D,psi_)\n",
        "    print(psi_)"
      ],
      "metadata": {
        "id": "F7U3xKjbkOUi"
      },
      "execution_count": 12,
      "outputs": []
    },
    {
      "cell_type": "code",
      "source": [
        "#########################################################\n",
        "#                                                       #\n",
        "# MAIN PROGRAM                                          #\n",
        "#                                                       #\n",
        "#########################################################\n",
        "print(\"REDUCED QUANTUM GENETIC ALGORITHM\")\n",
        "input(\"Press Enter to continue...\")\n",
        "RQGA(4,'0000');"
      ],
      "metadata": {
        "colab": {
          "base_uri": "https://localhost:8080/",
          "height": 1000
        },
        "id": "5LGcDU77kRFL",
        "outputId": "004016c9-ba53-41bd-9219-6b730c3cf314"
      },
      "execution_count": 16,
      "outputs": [
        {
          "output_type": "stream",
          "name": "stdout",
          "text": [
            "REDUCED QUANTUM GENETIC ALGORITHM\n",
            "Press Enter to continue...\n",
            "[[0.25]\n",
            " [0.25]\n",
            " [0.25]\n",
            " [0.25]\n",
            " [0.25]\n",
            " [0.25]\n",
            " [0.25]\n",
            " [0.25]\n",
            " [0.25]\n",
            " [0.25]\n",
            " [0.25]\n",
            " [0.25]\n",
            " [0.25]\n",
            " [0.25]\n",
            " [0.25]\n",
            " [0.25]]\n",
            "\n",
            "[[ 1.  0.  0.  0.  0.  0.  0.  0.  0.  0.  0.  0.  0.  0.  0.  0.]\n",
            " [ 0.  1.  0.  0.  0.  0.  0.  0.  0.  0.  0.  0.  0.  0.  0.  0.]\n",
            " [ 0.  0.  1.  0.  0.  0.  0.  0.  0.  0.  0.  0.  0.  0.  0.  0.]\n",
            " [ 0.  0.  0.  1.  0.  0.  0.  0.  0.  0.  0.  0.  0.  0.  0.  0.]\n",
            " [ 0.  0.  0.  0.  1.  0.  0.  0.  0.  0.  0.  0.  0.  0.  0.  0.]\n",
            " [ 0.  0.  0.  0.  0.  1.  0.  0.  0.  0.  0.  0.  0.  0.  0.  0.]\n",
            " [ 0.  0.  0.  0.  0.  0.  1.  0.  0.  0.  0.  0.  0.  0.  0.  0.]\n",
            " [ 0.  0.  0.  0.  0.  0.  0.  1.  0.  0.  0.  0.  0.  0.  0.  0.]\n",
            " [ 0.  0.  0.  0.  0.  0.  0.  0.  1.  0.  0.  0.  0.  0.  0.  0.]\n",
            " [ 0.  0.  0.  0.  0.  0.  0.  0.  0.  1.  0.  0.  0.  0.  0.  0.]\n",
            " [ 0.  0.  0.  0.  0.  0.  0.  0.  0.  0.  1.  0.  0.  0.  0.  0.]\n",
            " [ 0.  0.  0.  0.  0.  0.  0.  0.  0.  0.  0. -1.  0.  0.  0.  0.]\n",
            " [ 0.  0.  0.  0.  0.  0.  0.  0.  0.  0.  0.  0.  1.  0.  0.  0.]\n",
            " [ 0.  0.  0.  0.  0.  0.  0.  0.  0.  0.  0.  0.  0.  1.  0.  0.]\n",
            " [ 0.  0.  0.  0.  0.  0.  0.  0.  0.  0.  0.  0.  0.  0.  1.  0.]\n",
            " [ 0.  0.  0.  0.  0.  0.  0.  0.  0.  0.  0.  0.  0.  0.  0.  1.]]\n",
            "\n",
            "[[ 0.25]\n",
            " [ 0.25]\n",
            " [ 0.25]\n",
            " [ 0.25]\n",
            " [ 0.25]\n",
            " [ 0.25]\n",
            " [ 0.25]\n",
            " [ 0.25]\n",
            " [ 0.25]\n",
            " [ 0.25]\n",
            " [ 0.25]\n",
            " [-0.25]\n",
            " [ 0.25]\n",
            " [ 0.25]\n",
            " [ 0.25]\n",
            " [ 0.25]]\n",
            "\n"
          ]
        },
        {
          "output_type": "error",
          "ename": "TypeError",
          "evalue": "ignored",
          "traceback": [
            "\u001b[0;31m---------------------------------------------------------------------------\u001b[0m",
            "\u001b[0;31mTypeError\u001b[0m                                 Traceback (most recent call last)",
            "\u001b[0;32m<ipython-input-16-2fcfdcb2f2a5>\u001b[0m in \u001b[0;36m<module>\u001b[0;34m\u001b[0m\n\u001b[1;32m      6\u001b[0m \u001b[0mprint\u001b[0m\u001b[0;34m(\u001b[0m\u001b[0;34m\"REDUCED QUANTUM GENETIC ALGORITHM\"\u001b[0m\u001b[0;34m)\u001b[0m\u001b[0;34m\u001b[0m\u001b[0;34m\u001b[0m\u001b[0m\n\u001b[1;32m      7\u001b[0m \u001b[0minput\u001b[0m\u001b[0;34m(\u001b[0m\u001b[0;34m\"Press Enter to continue...\"\u001b[0m\u001b[0;34m)\u001b[0m\u001b[0;34m\u001b[0m\u001b[0;34m\u001b[0m\u001b[0m\n\u001b[0;32m----> 8\u001b[0;31m \u001b[0mRQGA\u001b[0m\u001b[0;34m(\u001b[0m\u001b[0;36m4\u001b[0m\u001b[0;34m,\u001b[0m\u001b[0;34m'0000'\u001b[0m\u001b[0;34m)\u001b[0m\u001b[0;34m;\u001b[0m\u001b[0;34m\u001b[0m\u001b[0;34m\u001b[0m\u001b[0m\n\u001b[0m",
            "\u001b[0;32m<ipython-input-12-80f0d6054c14>\u001b[0m in \u001b[0;36mRQGA\u001b[0;34m(n, string_num)\u001b[0m\n\u001b[1;32m     18\u001b[0m         \u001b[0mprint\u001b[0m\u001b[0;34m(\u001b[0m\u001b[0;34m)\u001b[0m\u001b[0;34m\u001b[0m\u001b[0;34m\u001b[0m\u001b[0m\n\u001b[1;32m     19\u001b[0m         \u001b[0mD\u001b[0m\u001b[0;34m=\u001b[0m\u001b[0mia\u001b[0m\u001b[0;34m(\u001b[0m\u001b[0mn\u001b[0m\u001b[0;34m)\u001b[0m\u001b[0;34m\u001b[0m\u001b[0;34m\u001b[0m\u001b[0m\n\u001b[0;32m---> 20\u001b[0;31m         \u001b[0mpsi_\u001b[0m\u001b[0;34m=\u001b[0m\u001b[0mnp\u001b[0m\u001b[0;34m.\u001b[0m\u001b[0mdot\u001b[0m\u001b[0;34m(\u001b[0m\u001b[0mD\u001b[0m\u001b[0;34m,\u001b[0m\u001b[0mpsi_\u001b[0m\u001b[0;34m)\u001b[0m\u001b[0;34m\u001b[0m\u001b[0;34m\u001b[0m\u001b[0m\n\u001b[0m\u001b[1;32m     21\u001b[0m     \u001b[0mprint\u001b[0m\u001b[0;34m(\u001b[0m\u001b[0mpsi_\u001b[0m\u001b[0;34m)\u001b[0m\u001b[0;34m\u001b[0m\u001b[0;34m\u001b[0m\u001b[0m\n",
            "\u001b[0;32m<__array_function__ internals>\u001b[0m in \u001b[0;36mdot\u001b[0;34m(*args, **kwargs)\u001b[0m\n",
            "\u001b[0;31mTypeError\u001b[0m: unsupported operand type(s) for *: 'NoneType' and 'float'"
          ]
        }
      ]
    },
    {
      "cell_type": "code",
      "source": [],
      "metadata": {
        "id": "ksW8ZkdzkXV0"
      },
      "execution_count": null,
      "outputs": []
    }
  ]
}